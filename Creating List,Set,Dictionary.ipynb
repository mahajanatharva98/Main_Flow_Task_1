{
 "cells": [
  {
   "cell_type": "code",
   "execution_count": 1,
   "id": "a2ab76ee-41ce-44bd-a9e5-128617674a36",
   "metadata": {},
   "outputs": [
    {
     "name": "stdout",
     "output_type": "stream",
     "text": [
      "My List: [1, 2, 3, 4, 5]\n",
      "My List after adding an element to the list: [1, 2, 3, 4, 5, 6]\n",
      "My List after removing an element from the list: [1, 2, 4, 5, 6]\n",
      "My List after modifying an element in the list: [10, 2, 4, 5, 6]\n"
     ]
    }
   ],
   "source": [
    "# Atharva Mahajan\n",
    "# create a List\n",
    "my_list = [1,2,3,4,5]\n",
    "print(\"My List:\",my_list)\n",
    "\n",
    "# adding an element to the List\n",
    "my_list.append(6)\n",
    "print(\"My List after adding an element to the list:\",my_list)\n",
    "\n",
    "#removing an element from the list\n",
    "my_list.remove(3)\n",
    "print(\"My List after removing an element from the list:\",my_list)\n",
    "\n",
    "#modifying an element in the list\n",
    "my_list[0]=10\n",
    "print(\"My List after modifying an element in the list:\",my_list)"
   ]
  },
  {
   "cell_type": "code",
   "execution_count": 2,
   "id": "66935f8f-ebef-4b70-b390-9012e8403260",
   "metadata": {},
   "outputs": [
    {
     "name": "stdout",
     "output_type": "stream",
     "text": [
      "My Dictionary: {'Name': 'John', 'Age': 25, 'City': 'Delhi'}\n",
      "My Dictionary after adding new key-value pair: {'Name': 'John', 'Age': 25, 'City': 'Delhi', 'Gender': 'Male'}\n",
      "My Dictionary after removing key-value pair: {'Name': 'John', 'City': 'Delhi', 'Gender': 'Male'}\n",
      "My Dictionary after modifying key value: {'Name': 'John', 'City': 'Mumbai', 'Gender': 'Male'}\n"
     ]
    }
   ],
   "source": [
    "#create a dictionary\n",
    "my_dict = {\n",
    "    'Name':'John',\n",
    "    'Age':25,\n",
    "    'City':'Delhi'\n",
    "}\n",
    "print(\"My Dictionary:\",my_dict)\n",
    "\n",
    "#adding new key-value pair\n",
    "my_dict['Gender']='Male'\n",
    "print(\"My Dictionary after adding new key-value pair:\",my_dict)\n",
    "\n",
    "#removing key-value pair\n",
    "del my_dict['Age']\n",
    "print(\"My Dictionary after removing key-value pair:\",my_dict)\n",
    "\n",
    "#modifying key value\n",
    "my_dict['City'] = 'Mumbai'\n",
    "print(\"My Dictionary after modifying key value:\",my_dict)"
   ]
  },
  {
   "cell_type": "code",
   "execution_count": 4,
   "id": "7838215c-e320-4234-9f6e-6a32833bc165",
   "metadata": {},
   "outputs": [
    {
     "name": "stdout",
     "output_type": "stream",
     "text": [
      "My set: {1, 2, 3, 4, 5}\n",
      "My set after adding element {1, 2, 3, 4, 5, 6}\n",
      "My set after remove element {1, 2, 3, 5, 6}\n",
      "My set after modifying element {2, 3, 5, 6, 10}\n"
     ]
    }
   ],
   "source": [
    "#creating a set\n",
    "my_set = {1,2,3,4,5}\n",
    "print('My set:',my_set)\n",
    "\n",
    "#adding the element\n",
    "my_set.add(6)\n",
    "print('My set after adding element',my_set)\n",
    "\n",
    "#removing the element\n",
    "my_set.remove(4)\n",
    "print('My set after remove element',my_set)\n",
    "      \n",
    "#removing element\n",
    "my_set.discard(1)\n",
    "my_set.add(10)\n",
    "print('My set after modifying element',my_set)"
   ]
  },
  {
   "cell_type": "code",
   "execution_count": null,
   "id": "214439b4-454a-4571-b0ca-6d8b29fcdda0",
   "metadata": {},
   "outputs": [],
   "source": []
  }
 ],
 "metadata": {
  "kernelspec": {
   "display_name": "Python 3 (ipykernel)",
   "language": "python",
   "name": "python3"
  },
  "language_info": {
   "codemirror_mode": {
    "name": "ipython",
    "version": 3
   },
   "file_extension": ".py",
   "mimetype": "text/x-python",
   "name": "python",
   "nbconvert_exporter": "python",
   "pygments_lexer": "ipython3",
   "version": "3.12.4"
  }
 },
 "nbformat": 4,
 "nbformat_minor": 5
}
